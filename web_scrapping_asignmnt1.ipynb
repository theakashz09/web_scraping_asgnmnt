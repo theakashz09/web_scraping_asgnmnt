{
  "nbformat": 4,
  "nbformat_minor": 0,
  "metadata": {
    "colab": {
      "provenance": []
    },
    "kernelspec": {
      "name": "python3",
      "display_name": "Python 3"
    },
    "language_info": {
      "name": "python"
    }
  },
  "cells": [
    {
      "cell_type": "code",
      "execution_count": null,
      "metadata": {
        "id": "vZZscZJWav6j"
      },
      "outputs": [],
      "source": []
    },
    {
      "cell_type": "markdown",
      "source": [
        "Q1 . What is Web Scraping? Why is it Used? Give three areas where Web Scraping is used to get data.\n",
        "\n",
        "Ans = Web scraping is the process of automatically extracting large amounts of data from websites. It typically involves using software, scripts, or bots to collect and parse data from the HTML of web pages. The extracted data can be stored in a structured format like a database or spreadsheet for further analysis or use.\n",
        "Web Scraping Uses:\n",
        "1.Data Collection: Web scraping helps gather information that may not be available in easily downloadable formats, such as CSV or APIs. It automates the extraction process, saving time and effort.\n",
        "\n",
        "2.Automation: Instead of manually copying data from websites, scraping tools can automatically extract and update data from web sources in real-time or on scheduled intervals.\n",
        "\n",
        "3.Competitive Intelligence: It is often used for market research or to gain insights into competitors by tracking prices, product listings, reviews, and trends across different platforms.\n",
        "\n",
        "Areas Where Web Scraping is Commonly Used:\n",
        "1.E-commerce and Price Monitoring: Companies or individuals use web scraping to track prices on competitor websites, monitor product availability, and analyze pricing trends. This helps in dynamic pricing, inventory management, and competitive strategy.\n",
        "\n",
        "2.Market Research and Data Analysis: Researchers and businesses scrape news websites, forums, blogs, and social media platforms to gather insights on consumer sentiment, trends, or industry-related information.\n",
        "\n",
        "3.Real Estate and Job Listings: Real estate agents and job portals scrape property listings or job postings to aggregate data from multiple websites. This allows for the creation of comprehensive databases and user-friendly applications for customers."
      ],
      "metadata": {
        "id": "2qUU6k0ya3jm"
      }
    },
    {
      "cell_type": "markdown",
      "source": [],
      "metadata": {
        "id": "QvDOPly8becN"
      }
    },
    {
      "cell_type": "markdown",
      "source": [
        "Q2. What are the different methods used for Web Scraping?\n",
        "Ans = Web scraping methods include: manual scraping (copy and paste), HTML parsing, DOM parsing, API scraping, using headless browsers, utilizing libraries like BeautifulSoup and Scrapy, making HTTP requests, employing XPath selectors, and leveraging browser extensions to extract data from websites by navigating and interpreting their HTML structure; with advanced techniques like vertical aggregation and automatic IP rotation to handle complex scenarios."
      ],
      "metadata": {
        "id": "FXbJTYFPq8r7"
      }
    },
    {
      "cell_type": "markdown",
      "source": [
        "\n",
        "Q3. What is Beautiful Soup? Why is it used?\n",
        "\n",
        "Ans =Beautiful Soup is a Python library that helps extract and parse data from web pages,Beautiful Soup can help with tasks like isolating titles and links, extracting text from HTML tags, and altering the HTML within a document. It can also create a parse tree for documents that can be used to extract data from HTML"
      ],
      "metadata": {
        "id": "4CcCrW1Zc7HI"
      }
    },
    {
      "cell_type": "markdown",
      "source": [
        "Q4. Why is flask used in this Web Scraping project?\n",
        "\n",
        "\n",
        "Ans= Flask is often used in web scraping projects because it's a lightweight and flexible Python framework that allows developers to quickly build web applications and APIs to serve the scraped data, making it easy to access and manage the extracted information through a user interface, rather than just running a standalone script; its minimalistic design enables customization and rapid development, which is ideal for setting up a scraping tool with specific functionalities.\n",
        "Key points about using Flask for web scraping:\n",
        "Simplicity and Flexibility:\n",
        "Flask's minimal structure allows developers to focus on the core scraping logic without dealing with complex framework overhead.\n",
        "\n",
        "\n",
        "\n",
        "\n"
      ],
      "metadata": {
        "id": "bXdO2mcGdMwb"
      }
    },
    {
      "cell_type": "markdown",
      "source": [
        "Q5. Write the names of AWS services used in this project. Also, explain the use of each service.\n",
        "Ans = Azure"
      ],
      "metadata": {
        "id": "b_uEN8vudmJS"
      }
    }
  ]
}